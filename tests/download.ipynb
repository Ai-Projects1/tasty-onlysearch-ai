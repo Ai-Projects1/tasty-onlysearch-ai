{
 "cells": [
  {
   "cell_type": "code",
   "execution_count": null,
   "id": "32d96061",
   "metadata": {},
   "outputs": [
    {
     "data": {
      "text/plain": [
       "('./models/gpt2/tokenizer_config.json',\n",
       " './models/gpt2/special_tokens_map.json',\n",
       " './models/gpt2/vocab.json',\n",
       " './models/gpt2/merges.txt',\n",
       " './models/gpt2/added_tokens.json',\n",
       " './models/gpt2/tokenizer.json')"
      ]
     },
     "execution_count": 2,
     "metadata": {},
     "output_type": "execute_result"
    }
   ],
   "source": [
    "from transformers import AutoModelForCausalLM, AutoTokenizer\n",
    "\n",
    "model_name = \"gpt2\"\n",
    "model = AutoModelForCausalLM.from_pretrained(model_name)\n",
    "tokenizer = AutoTokenizer.from_pretrained(model_name)\n",
    "\n",
    "model.save_pretrained(\"../models/gpt2\")\n",
    "tokenizer.save_pretrained(\"../models/gpt2\")"
   ]
  },
  {
   "cell_type": "code",
   "execution_count": null,
   "id": "793adaf4",
   "metadata": {},
   "outputs": [],
   "source": []
  }
 ],
 "metadata": {
  "kernelspec": {
   "display_name": "venv",
   "language": "python",
   "name": "python3"
  },
  "language_info": {
   "codemirror_mode": {
    "name": "ipython",
    "version": 3
   },
   "file_extension": ".py",
   "mimetype": "text/x-python",
   "name": "python",
   "nbconvert_exporter": "python",
   "pygments_lexer": "ipython3",
   "version": "3.12.2"
  }
 },
 "nbformat": 4,
 "nbformat_minor": 5
}
