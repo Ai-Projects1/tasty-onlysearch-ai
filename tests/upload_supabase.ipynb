{
 "cells": [
  {
   "cell_type": "code",
   "execution_count": 67,
   "id": "979e3ba0",
   "metadata": {},
   "outputs": [],
   "source": [
    "import pandas as pd\n",
    "import numpy as np\n",
    "import clip\n",
    "import torch\n",
    "import requests\n",
    "from io import BytesIO\n",
    "from PIL import Image\n",
    "from deepface import DeepFace\n",
    "from transformers import pipeline\n",
    "from sklearn.metrics.pairwise import cosine_similarity\n",
    "from dotenv import load_dotenv\n"
   ]
  },
  {
   "cell_type": "code",
   "execution_count": 40,
   "id": "cfb830c2",
   "metadata": {},
   "outputs": [],
   "source": [
    "COMPILED_OUTPUT = r'../outputs/compiled_output.csv'\n",
    "CUSTOM_PREDICTIONS = r'../outputs/gender_predictions.csv'\n",
    "\n",
    "compiled_df = pd.read_csv(COMPILED_OUTPUT)\n",
    "custom_prediction_df = pd.read_csv(CUSTOM_PREDICTIONS)\n",
    "\n",
    "compiled_df_valid = compiled_df[compiled_df['gender']!='unknown']\n",
    "compiled_df_valid['predicted_by'] = 'pretrained_deepface'\n",
    "drop_cols = ['source_file']\n",
    "drop_cols = [col for col in compiled_df_valid.columns if col in drop_cols]\n",
    "compiled_df_valid = compiled_df_valid.drop(columns=drop_cols)"
   ]
  },
  {
   "cell_type": "code",
   "execution_count": 41,
   "id": "f3f0e33f",
   "metadata": {},
   "outputs": [
    {
     "data": {
      "text/plain": [
       "Index(['username', 'gender', 'confidence_score', 'avatar', 'predicted_by'], dtype='object')"
      ]
     },
     "execution_count": 41,
     "metadata": {},
     "output_type": "execute_result"
    }
   ],
   "source": [
    "compiled_df_valid.columns"
   ]
  },
  {
   "cell_type": "code",
   "execution_count": 42,
   "id": "17f1e893",
   "metadata": {},
   "outputs": [],
   "source": [
    "drop_cols = [col for col in custom_prediction_df if col.startswith('Unnamed')]\n",
    "drop_cols = drop_cols + ['source_file','gender','new_gender','confidence_score']\n",
    "drop_cols = [col for col in custom_prediction_df.columns if col in drop_cols]\n",
    "custom_prediction_df = custom_prediction_df.drop(columns=drop_cols)\n",
    "custom_prediction_df = custom_prediction_df.rename(columns = {\n",
    "    'predicted_gender': 'gender',\n",
    "    'confidence': 'confidence_score'\n",
    "})"
   ]
  },
  {
   "cell_type": "code",
   "execution_count": 43,
   "id": "eef442a5",
   "metadata": {},
   "outputs": [],
   "source": [
    "custom_prediction_df['confidence_score'] = custom_prediction_df.apply(\n",
    "    lambda row: (\n",
    "        {'Woman': round(row['confidence_score'], 2) * 100, 'Man': round((1 - row['confidence_score']), 2) * 100} if row['gender'].lower() == 'woman'\n",
    "        else {'Woman': round((1 - row['confidence_score']), 2) * 100, 'Man': round(row['confidence_score'], 2) * 100} if row['gender'].lower() == 'man'\n",
    "        else {'Woman': 0.0, 'Man': 0.0}\n",
    "    ),\n",
    "    axis=1\n",
    ")\n"
   ]
  },
  {
   "cell_type": "code",
   "execution_count": 44,
   "id": "0400b1fe",
   "metadata": {},
   "outputs": [],
   "source": [
    "custom_prediction_df['predicted_by'] = 'custom_model_finetuned'"
   ]
  },
  {
   "cell_type": "code",
   "execution_count": 45,
   "id": "c97f2c6d",
   "metadata": {},
   "outputs": [
    {
     "data": {
      "text/plain": [
       "(Index(['username', 'gender', 'confidence_score', 'avatar', 'predicted_by'], dtype='object'),\n",
       " Index(['username', 'avatar', 'gender', 'confidence_score', 'predicted_by'], dtype='object'))"
      ]
     },
     "execution_count": 45,
     "metadata": {},
     "output_type": "execute_result"
    }
   ],
   "source": [
    "compiled_df_valid.columns, custom_prediction_df.columns"
   ]
  },
  {
   "cell_type": "code",
   "execution_count": 46,
   "id": "d6b4ba8f",
   "metadata": {},
   "outputs": [],
   "source": [
    "combined_df = pd.concat([compiled_df_valid, custom_prediction_df], ignore_index=True)\n"
   ]
  },
  {
   "cell_type": "code",
   "execution_count": 47,
   "id": "79ae5273",
   "metadata": {},
   "outputs": [
    {
     "data": {
      "text/plain": [
       "40261"
      ]
     },
     "execution_count": 47,
     "metadata": {},
     "output_type": "execute_result"
    }
   ],
   "source": [
    "len(combined_df)"
   ]
  },
  {
   "cell_type": "code",
   "execution_count": 48,
   "id": "66170d8c",
   "metadata": {},
   "outputs": [
    {
     "data": {
      "text/plain": [
       "(19336, 20925)"
      ]
     },
     "execution_count": 48,
     "metadata": {},
     "output_type": "execute_result"
    }
   ],
   "source": [
    "len(compiled_df_valid),len(custom_prediction_df)"
   ]
  },
  {
   "cell_type": "code",
   "execution_count": 49,
   "id": "8f22e176",
   "metadata": {},
   "outputs": [
    {
     "name": "stderr",
     "output_type": "stream",
     "text": [
      "Device set to use mps:0\n"
     ]
    }
   ],
   "source": [
    "##### EXTRACTING THE EMBEDDINGS AND ATTRIBUTES #####\n",
    "device = \"cuda\" if torch.cuda.is_available() else \"cpu\"\n",
    "clip_model, clip_preprocess = clip.load(\"ViT-B/32\", device=device)\n",
    "llm_pipeline = pipeline(\"text-generation\", model=\"gpt2\")  # Replace with OpenAI API if preferred\n"
   ]
  },
  {
   "cell_type": "code",
   "execution_count": 50,
   "id": "bfcab684",
   "metadata": {},
   "outputs": [],
   "source": [
    "def get_face_embedding(image_path):\n",
    "    try:\n",
    "        embedding = DeepFace.represent(img_path=image_path, model_name='Facenet')[0]['embedding']\n",
    "        return embedding\n",
    "    except Exception as e:\n",
    "        print(f\"[Face] No face found: {e}\")\n",
    "        return None"
   ]
  },
  {
   "cell_type": "code",
   "execution_count": 51,
   "id": "48d93045",
   "metadata": {},
   "outputs": [],
   "source": [
    "def get_clip_image_embedding(image_path):\n",
    "    try:\n",
    "        response = requests.get(image_path, timeout=10)\n",
    "        response.raise_for_status()  # Raise error for bad status\n",
    "        image = Image.open(BytesIO(response.content)).convert(\"RGB\")\n",
    "        image_input = clip_preprocess(image).unsqueeze(0)\n",
    "\n",
    "        with torch.no_grad():\n",
    "            embedding = clip_model.encode_image(image_input).squeeze().numpy()\n",
    "        return embedding\n",
    "    except Exception as e:\n",
    "        print(f\"Failed to get embedding for URL {image_path}: {e}\")\n",
    "        return None\n",
    "    \n",
    "def get_clip_text_embedding(text):\n",
    "    text_input = clip.tokenize([text]).to(device)\n",
    "    with torch.no_grad():\n",
    "        text_features = clip_model.encode_text(text_input).squeeze().cpu().numpy()\n",
    "    return text_features"
   ]
  },
  {
   "cell_type": "code",
   "execution_count": 73,
   "id": "7db8ceed",
   "metadata": {},
   "outputs": [],
   "source": [
    "def recommend_similar_images(query_text=None, query_image_url=None, top_k=5):\n",
    "    if not query_text and not query_image_url:\n",
    "        raise ValueError(\"At least one of 'query_text' or 'query_image_url' must be provided.\")\n",
    "\n",
    "    query_embeddings = []\n",
    "\n",
    "    if query_text:\n",
    "        text_embedding = get_clip_text_embedding(query_text)\n",
    "        query_embeddings.append(text_embedding)\n",
    "\n",
    "    if query_image_url:\n",
    "        image_embedding = get_clip_image_embedding(query_image_url)\n",
    "        if image_embedding is not None:\n",
    "            query_embeddings.append(image_embedding)\n",
    "\n",
    "    if not query_embeddings:\n",
    "        return []\n",
    "\n",
    "    query_vector = np.mean(query_embeddings, axis=0).reshape(1, -1)\n",
    "\n",
    "    # Fetch data from Supabase\n",
    "    response = supabase.table(\"of_profiles\").select(\"*\").execute()\n",
    "    records = response.data\n",
    "\n",
    "    # Convert to DataFrame\n",
    "    df = pd.DataFrame(records)\n",
    "\n",
    "    # Drop rows with missing or invalid embeddings\n",
    "    df = df[df['embeddings'].notna()]\n",
    "\n",
    "    # Convert JSON embeddings to np.array\n",
    "    df['embedding_array'] = df['embeddings'].apply(lambda x: np.array(x, dtype=np.float32))\n",
    "\n",
    "    # Create matrix for cosine similarity\n",
    "    image_features_matrix = np.vstack(df['embedding_array'].values.tolist())\n",
    "\n",
    "    similarity_scores = cosine_similarity(query_vector, image_features_matrix)[0]\n",
    "    top_indices = np.argsort(similarity_scores)[::-1][:top_k]\n",
    "\n",
    "    return df.iloc[top_indices].assign(similarity_score=similarity_scores[top_indices])\n"
   ]
  },
  {
   "cell_type": "code",
   "execution_count": null,
   "id": "ccda8e38",
   "metadata": {},
   "outputs": [],
   "source": [
    "compiled_df_valid['embeddings'] = ''\n",
    "for idx, row in compiled_df_valid.iterrows():\n",
    "    try:\n",
    "        embedding = get_clip_image_embedding(row.avatar)\n",
    "        compiled_df_valid.at[idx, 'embeddings'] = embedding\n",
    "    except:\n",
    "        print(f\"Skipping {row.username} - no face or bad image\")\n",
    "        compiled_df_valid.at[idx, 'embeddings'] = None\n"
   ]
  },
  {
   "cell_type": "code",
   "execution_count": 74,
   "id": "d5bbb164",
   "metadata": {},
   "outputs": [
    {
     "data": {
      "text/html": [
       "<div>\n",
       "<style scoped>\n",
       "    .dataframe tbody tr th:only-of-type {\n",
       "        vertical-align: middle;\n",
       "    }\n",
       "\n",
       "    .dataframe tbody tr th {\n",
       "        vertical-align: top;\n",
       "    }\n",
       "\n",
       "    .dataframe thead th {\n",
       "        text-align: right;\n",
       "    }\n",
       "</style>\n",
       "<table border=\"1\" class=\"dataframe\">\n",
       "  <thead>\n",
       "    <tr style=\"text-align: right;\">\n",
       "      <th></th>\n",
       "      <th>id</th>\n",
       "      <th>created_at</th>\n",
       "      <th>username</th>\n",
       "      <th>avatar</th>\n",
       "      <th>gender</th>\n",
       "      <th>confidence_score</th>\n",
       "      <th>predicted_by</th>\n",
       "      <th>embeddings</th>\n",
       "      <th>embedding_array</th>\n",
       "      <th>similarity_score</th>\n",
       "    </tr>\n",
       "  </thead>\n",
       "  <tbody>\n",
       "    <tr>\n",
       "      <th>2</th>\n",
       "      <td>3</td>\n",
       "      <td>2025-05-18T04:30:25.705461+00:00</td>\n",
       "      <td>777p3ach</td>\n",
       "      <td>https://public.onlyfans.com/files/7/73/73d/73d...</td>\n",
       "      <td>woman</td>\n",
       "      <td>{'Woman': 50.043076276779175, 'Man': 49.956917...</td>\n",
       "      <td>pretrained_deepface</td>\n",
       "      <td>[0.026222987100481987, 0.03928045928478241, 0....</td>\n",
       "      <td>[0.026222987, 0.03928046, 0.030166619, -0.2567...</td>\n",
       "      <td>0.243854</td>\n",
       "    </tr>\n",
       "    <tr>\n",
       "      <th>0</th>\n",
       "      <td>1</td>\n",
       "      <td>2025-05-18T04:30:24.258725+00:00</td>\n",
       "      <td>19hislittlegoth91</td>\n",
       "      <td>https://public.onlyfans.com/files/b/bx/bxd/bxd...</td>\n",
       "      <td>man</td>\n",
       "      <td>{'Woman': 11.30981296300888, 'Man': 88.6901855...</td>\n",
       "      <td>pretrained_deepface</td>\n",
       "      <td>[-0.06269136816263199, 0.05155433341860771, -0...</td>\n",
       "      <td>[-0.06269137, 0.051554333, -0.30387303, 0.2713...</td>\n",
       "      <td>0.239834</td>\n",
       "    </tr>\n",
       "    <tr>\n",
       "      <th>4</th>\n",
       "      <td>5</td>\n",
       "      <td>2025-05-18T04:30:26.658133+00:00</td>\n",
       "      <td>a1day1princess</td>\n",
       "      <td>https://public.onlyfans.com/files/w/we/wes/wes...</td>\n",
       "      <td>man</td>\n",
       "      <td>{'Woman': 4.30479571223259, 'Man': 95.69520354...</td>\n",
       "      <td>pretrained_deepface</td>\n",
       "      <td>[0.23092104494571686, -0.027042806148529053, 0...</td>\n",
       "      <td>[0.23092104, -0.027042806, 0.007916119, -0.209...</td>\n",
       "      <td>0.230642</td>\n",
       "    </tr>\n",
       "  </tbody>\n",
       "</table>\n",
       "</div>"
      ],
      "text/plain": [
       "   id                        created_at           username  \\\n",
       "2   3  2025-05-18T04:30:25.705461+00:00           777p3ach   \n",
       "0   1  2025-05-18T04:30:24.258725+00:00  19hislittlegoth91   \n",
       "4   5  2025-05-18T04:30:26.658133+00:00     a1day1princess   \n",
       "\n",
       "                                              avatar gender  \\\n",
       "2  https://public.onlyfans.com/files/7/73/73d/73d...  woman   \n",
       "0  https://public.onlyfans.com/files/b/bx/bxd/bxd...    man   \n",
       "4  https://public.onlyfans.com/files/w/we/wes/wes...    man   \n",
       "\n",
       "                                    confidence_score         predicted_by  \\\n",
       "2  {'Woman': 50.043076276779175, 'Man': 49.956917...  pretrained_deepface   \n",
       "0  {'Woman': 11.30981296300888, 'Man': 88.6901855...  pretrained_deepface   \n",
       "4  {'Woman': 4.30479571223259, 'Man': 95.69520354...  pretrained_deepface   \n",
       "\n",
       "                                          embeddings  \\\n",
       "2  [0.026222987100481987, 0.03928045928478241, 0....   \n",
       "0  [-0.06269136816263199, 0.05155433341860771, -0...   \n",
       "4  [0.23092104494571686, -0.027042806148529053, 0...   \n",
       "\n",
       "                                     embedding_array  similarity_score  \n",
       "2  [0.026222987, 0.03928046, 0.030166619, -0.2567...          0.243854  \n",
       "0  [-0.06269137, 0.051554333, -0.30387303, 0.2713...          0.239834  \n",
       "4  [0.23092104, -0.027042806, 0.007916119, -0.209...          0.230642  "
      ]
     },
     "execution_count": 74,
     "metadata": {},
     "output_type": "execute_result"
    }
   ],
   "source": [
    "# Text-only search\n",
    "recommend_similar_images(query_text=\"tatoo\", top_k=3)"
   ]
  },
  {
   "cell_type": "code",
   "execution_count": 75,
   "id": "bb4b7ad1",
   "metadata": {},
   "outputs": [
    {
     "data": {
      "text/html": [
       "<div>\n",
       "<style scoped>\n",
       "    .dataframe tbody tr th:only-of-type {\n",
       "        vertical-align: middle;\n",
       "    }\n",
       "\n",
       "    .dataframe tbody tr th {\n",
       "        vertical-align: top;\n",
       "    }\n",
       "\n",
       "    .dataframe thead th {\n",
       "        text-align: right;\n",
       "    }\n",
       "</style>\n",
       "<table border=\"1\" class=\"dataframe\">\n",
       "  <thead>\n",
       "    <tr style=\"text-align: right;\">\n",
       "      <th></th>\n",
       "      <th>id</th>\n",
       "      <th>created_at</th>\n",
       "      <th>username</th>\n",
       "      <th>avatar</th>\n",
       "      <th>gender</th>\n",
       "      <th>confidence_score</th>\n",
       "      <th>predicted_by</th>\n",
       "      <th>embeddings</th>\n",
       "      <th>embedding_array</th>\n",
       "      <th>similarity_score</th>\n",
       "    </tr>\n",
       "  </thead>\n",
       "  <tbody>\n",
       "    <tr>\n",
       "      <th>0</th>\n",
       "      <td>1</td>\n",
       "      <td>2025-05-18T04:30:24.258725+00:00</td>\n",
       "      <td>19hislittlegoth91</td>\n",
       "      <td>https://public.onlyfans.com/files/b/bx/bxd/bxd...</td>\n",
       "      <td>man</td>\n",
       "      <td>{'Woman': 11.30981296300888, 'Man': 88.6901855...</td>\n",
       "      <td>pretrained_deepface</td>\n",
       "      <td>[-0.06269136816263199, 0.05155433341860771, -0...</td>\n",
       "      <td>[-0.06269137, 0.051554333, -0.30387303, 0.2713...</td>\n",
       "      <td>0.759878</td>\n",
       "    </tr>\n",
       "    <tr>\n",
       "      <th>2</th>\n",
       "      <td>3</td>\n",
       "      <td>2025-05-18T04:30:25.705461+00:00</td>\n",
       "      <td>777p3ach</td>\n",
       "      <td>https://public.onlyfans.com/files/7/73/73d/73d...</td>\n",
       "      <td>woman</td>\n",
       "      <td>{'Woman': 50.043076276779175, 'Man': 49.956917...</td>\n",
       "      <td>pretrained_deepface</td>\n",
       "      <td>[0.026222987100481987, 0.03928045928478241, 0....</td>\n",
       "      <td>[0.026222987, 0.03928046, 0.030166619, -0.2567...</td>\n",
       "      <td>0.733666</td>\n",
       "    </tr>\n",
       "    <tr>\n",
       "      <th>1</th>\n",
       "      <td>2</td>\n",
       "      <td>2025-05-18T04:30:24.985493+00:00</td>\n",
       "      <td>2troubledouble</td>\n",
       "      <td>https://public.onlyfans.com/files/t/t2/t2f/t2f...</td>\n",
       "      <td>man</td>\n",
       "      <td>{'Woman': 11.368048191070557, 'Man': 88.631945...</td>\n",
       "      <td>pretrained_deepface</td>\n",
       "      <td>[-0.20426703989505768, 0.008542572148144245, -...</td>\n",
       "      <td>[-0.20426704, 0.008542572, -0.046812143, 0.014...</td>\n",
       "      <td>0.690365</td>\n",
       "    </tr>\n",
       "  </tbody>\n",
       "</table>\n",
       "</div>"
      ],
      "text/plain": [
       "   id                        created_at           username  \\\n",
       "0   1  2025-05-18T04:30:24.258725+00:00  19hislittlegoth91   \n",
       "2   3  2025-05-18T04:30:25.705461+00:00           777p3ach   \n",
       "1   2  2025-05-18T04:30:24.985493+00:00     2troubledouble   \n",
       "\n",
       "                                              avatar gender  \\\n",
       "0  https://public.onlyfans.com/files/b/bx/bxd/bxd...    man   \n",
       "2  https://public.onlyfans.com/files/7/73/73d/73d...  woman   \n",
       "1  https://public.onlyfans.com/files/t/t2/t2f/t2f...    man   \n",
       "\n",
       "                                    confidence_score         predicted_by  \\\n",
       "0  {'Woman': 11.30981296300888, 'Man': 88.6901855...  pretrained_deepface   \n",
       "2  {'Woman': 50.043076276779175, 'Man': 49.956917...  pretrained_deepface   \n",
       "1  {'Woman': 11.368048191070557, 'Man': 88.631945...  pretrained_deepface   \n",
       "\n",
       "                                          embeddings  \\\n",
       "0  [-0.06269136816263199, 0.05155433341860771, -0...   \n",
       "2  [0.026222987100481987, 0.03928045928478241, 0....   \n",
       "1  [-0.20426703989505768, 0.008542572148144245, -...   \n",
       "\n",
       "                                     embedding_array  similarity_score  \n",
       "0  [-0.06269137, 0.051554333, -0.30387303, 0.2713...          0.759878  \n",
       "2  [0.026222987, 0.03928046, 0.030166619, -0.2567...          0.733666  \n",
       "1  [-0.20426704, 0.008542572, -0.046812143, 0.014...          0.690365  "
      ]
     },
     "execution_count": 75,
     "metadata": {},
     "output_type": "execute_result"
    }
   ],
   "source": [
    "# # Image-only search\n",
    "recommend_similar_images(query_image_url=\"https://public.onlyfans.com/files/v/vk/vk5/vk5bd4pkhuxw0bgeklvlpc5yitjrwz211586828835/avatar.jpg\", top_k=3)"
   ]
  },
  {
   "cell_type": "code",
   "execution_count": 76,
   "id": "0cd30dda",
   "metadata": {},
   "outputs": [
    {
     "data": {
      "text/html": [
       "<div>\n",
       "<style scoped>\n",
       "    .dataframe tbody tr th:only-of-type {\n",
       "        vertical-align: middle;\n",
       "    }\n",
       "\n",
       "    .dataframe tbody tr th {\n",
       "        vertical-align: top;\n",
       "    }\n",
       "\n",
       "    .dataframe thead th {\n",
       "        text-align: right;\n",
       "    }\n",
       "</style>\n",
       "<table border=\"1\" class=\"dataframe\">\n",
       "  <thead>\n",
       "    <tr style=\"text-align: right;\">\n",
       "      <th></th>\n",
       "      <th>id</th>\n",
       "      <th>created_at</th>\n",
       "      <th>username</th>\n",
       "      <th>avatar</th>\n",
       "      <th>gender</th>\n",
       "      <th>confidence_score</th>\n",
       "      <th>predicted_by</th>\n",
       "      <th>embeddings</th>\n",
       "      <th>embedding_array</th>\n",
       "      <th>similarity_score</th>\n",
       "    </tr>\n",
       "  </thead>\n",
       "  <tbody>\n",
       "    <tr>\n",
       "      <th>0</th>\n",
       "      <td>1</td>\n",
       "      <td>2025-05-18T04:30:24.258725+00:00</td>\n",
       "      <td>19hislittlegoth91</td>\n",
       "      <td>https://public.onlyfans.com/files/b/bx/bxd/bxd...</td>\n",
       "      <td>man</td>\n",
       "      <td>{'Woman': 11.30981296300888, 'Man': 88.6901855...</td>\n",
       "      <td>pretrained_deepface</td>\n",
       "      <td>[-0.06269136816263199, 0.05155433341860771, -0...</td>\n",
       "      <td>[-0.06269137, 0.051554333, -0.30387303, 0.2713...</td>\n",
       "      <td>0.641200</td>\n",
       "    </tr>\n",
       "    <tr>\n",
       "      <th>2</th>\n",
       "      <td>3</td>\n",
       "      <td>2025-05-18T04:30:25.705461+00:00</td>\n",
       "      <td>777p3ach</td>\n",
       "      <td>https://public.onlyfans.com/files/7/73/73d/73d...</td>\n",
       "      <td>woman</td>\n",
       "      <td>{'Woman': 50.043076276779175, 'Man': 49.956917...</td>\n",
       "      <td>pretrained_deepface</td>\n",
       "      <td>[0.026222987100481987, 0.03928045928478241, 0....</td>\n",
       "      <td>[0.026222987, 0.03928046, 0.030166619, -0.2567...</td>\n",
       "      <td>0.624656</td>\n",
       "    </tr>\n",
       "    <tr>\n",
       "      <th>1</th>\n",
       "      <td>2</td>\n",
       "      <td>2025-05-18T04:30:24.985493+00:00</td>\n",
       "      <td>2troubledouble</td>\n",
       "      <td>https://public.onlyfans.com/files/t/t2/t2f/t2f...</td>\n",
       "      <td>man</td>\n",
       "      <td>{'Woman': 11.368048191070557, 'Man': 88.631945...</td>\n",
       "      <td>pretrained_deepface</td>\n",
       "      <td>[-0.20426703989505768, 0.008542572148144245, -...</td>\n",
       "      <td>[-0.20426704, 0.008542572, -0.046812143, 0.014...</td>\n",
       "      <td>0.587676</td>\n",
       "    </tr>\n",
       "    <tr>\n",
       "      <th>4</th>\n",
       "      <td>5</td>\n",
       "      <td>2025-05-18T04:30:26.658133+00:00</td>\n",
       "      <td>a1day1princess</td>\n",
       "      <td>https://public.onlyfans.com/files/w/we/wes/wes...</td>\n",
       "      <td>man</td>\n",
       "      <td>{'Woman': 4.30479571223259, 'Man': 95.69520354...</td>\n",
       "      <td>pretrained_deepface</td>\n",
       "      <td>[0.23092104494571686, -0.027042806148529053, 0...</td>\n",
       "      <td>[0.23092104, -0.027042806, 0.007916119, -0.209...</td>\n",
       "      <td>0.581810</td>\n",
       "    </tr>\n",
       "    <tr>\n",
       "      <th>3</th>\n",
       "      <td>4</td>\n",
       "      <td>2025-05-18T04:30:25.990874+00:00</td>\n",
       "      <td>a1bandzino_</td>\n",
       "      <td>https://public.onlyfans.com/files/n/no/nod/nod...</td>\n",
       "      <td>man</td>\n",
       "      <td>{'Woman': 12.24442571401596, 'Man': 87.7555727...</td>\n",
       "      <td>pretrained_deepface</td>\n",
       "      <td>[0.04114340990781784, -0.4302443265914917, 0.1...</td>\n",
       "      <td>[0.04114341, -0.43024433, 0.15611474, 0.119282...</td>\n",
       "      <td>0.517971</td>\n",
       "    </tr>\n",
       "  </tbody>\n",
       "</table>\n",
       "</div>"
      ],
      "text/plain": [
       "   id                        created_at           username  \\\n",
       "0   1  2025-05-18T04:30:24.258725+00:00  19hislittlegoth91   \n",
       "2   3  2025-05-18T04:30:25.705461+00:00           777p3ach   \n",
       "1   2  2025-05-18T04:30:24.985493+00:00     2troubledouble   \n",
       "4   5  2025-05-18T04:30:26.658133+00:00     a1day1princess   \n",
       "3   4  2025-05-18T04:30:25.990874+00:00        a1bandzino_   \n",
       "\n",
       "                                              avatar gender  \\\n",
       "0  https://public.onlyfans.com/files/b/bx/bxd/bxd...    man   \n",
       "2  https://public.onlyfans.com/files/7/73/73d/73d...  woman   \n",
       "1  https://public.onlyfans.com/files/t/t2/t2f/t2f...    man   \n",
       "4  https://public.onlyfans.com/files/w/we/wes/wes...    man   \n",
       "3  https://public.onlyfans.com/files/n/no/nod/nod...    man   \n",
       "\n",
       "                                    confidence_score         predicted_by  \\\n",
       "0  {'Woman': 11.30981296300888, 'Man': 88.6901855...  pretrained_deepface   \n",
       "2  {'Woman': 50.043076276779175, 'Man': 49.956917...  pretrained_deepface   \n",
       "1  {'Woman': 11.368048191070557, 'Man': 88.631945...  pretrained_deepface   \n",
       "4  {'Woman': 4.30479571223259, 'Man': 95.69520354...  pretrained_deepface   \n",
       "3  {'Woman': 12.24442571401596, 'Man': 87.7555727...  pretrained_deepface   \n",
       "\n",
       "                                          embeddings  \\\n",
       "0  [-0.06269136816263199, 0.05155433341860771, -0...   \n",
       "2  [0.026222987100481987, 0.03928045928478241, 0....   \n",
       "1  [-0.20426703989505768, 0.008542572148144245, -...   \n",
       "4  [0.23092104494571686, -0.027042806148529053, 0...   \n",
       "3  [0.04114340990781784, -0.4302443265914917, 0.1...   \n",
       "\n",
       "                                     embedding_array  similarity_score  \n",
       "0  [-0.06269137, 0.051554333, -0.30387303, 0.2713...          0.641200  \n",
       "2  [0.026222987, 0.03928046, 0.030166619, -0.2567...          0.624656  \n",
       "1  [-0.20426704, 0.008542572, -0.046812143, 0.014...          0.587676  \n",
       "4  [0.23092104, -0.027042806, 0.007916119, -0.209...          0.581810  \n",
       "3  [0.04114341, -0.43024433, 0.15611474, 0.119282...          0.517971  "
      ]
     },
     "execution_count": 76,
     "metadata": {},
     "output_type": "execute_result"
    }
   ],
   "source": [
    "# # Combined image + text search\n",
    "recommend_similar_images(query_text=\"feet\", query_image_url=\"https://public.onlyfans.com/files/v/vk/vk5/vk5bd4pkhuxw0bgeklvlpc5yitjrwz211586828835/avatar.jpg\", top_k=5)\n"
   ]
  },
  {
   "cell_type": "code",
   "execution_count": 62,
   "id": "4e45dad1",
   "metadata": {},
   "outputs": [],
   "source": [
    "#### Generating search ####\n",
    "compiled_df_valid_embeddings = compiled_df_valid[compiled_df_valid['embeddings'].apply(lambda x: isinstance(x, np.ndarray) and x.shape == (512,))].copy()\n"
   ]
  },
  {
   "cell_type": "code",
   "execution_count": 63,
   "id": "0cda0c9c",
   "metadata": {},
   "outputs": [
    {
     "data": {
      "text/html": [
       "<div>\n",
       "<style scoped>\n",
       "    .dataframe tbody tr th:only-of-type {\n",
       "        vertical-align: middle;\n",
       "    }\n",
       "\n",
       "    .dataframe tbody tr th {\n",
       "        vertical-align: top;\n",
       "    }\n",
       "\n",
       "    .dataframe thead th {\n",
       "        text-align: right;\n",
       "    }\n",
       "</style>\n",
       "<table border=\"1\" class=\"dataframe\">\n",
       "  <thead>\n",
       "    <tr style=\"text-align: right;\">\n",
       "      <th></th>\n",
       "      <th>username</th>\n",
       "      <th>gender</th>\n",
       "      <th>confidence_score</th>\n",
       "      <th>avatar</th>\n",
       "      <th>predicted_by</th>\n",
       "      <th>embeddings</th>\n",
       "    </tr>\n",
       "  </thead>\n",
       "  <tbody>\n",
       "    <tr>\n",
       "      <th>0</th>\n",
       "      <td>19hislittlegoth91</td>\n",
       "      <td>man</td>\n",
       "      <td>{'Woman': 11.30981296300888, 'Man': 88.6901855...</td>\n",
       "      <td>https://public.onlyfans.com/files/b/bx/bxd/bxd...</td>\n",
       "      <td>pretrained_deepface</td>\n",
       "      <td>[-0.06269137, 0.051554333, -0.30387303, 0.2713...</td>\n",
       "    </tr>\n",
       "    <tr>\n",
       "      <th>2</th>\n",
       "      <td>2troubledouble</td>\n",
       "      <td>man</td>\n",
       "      <td>{'Woman': 11.368048191070557, 'Man': 88.631945...</td>\n",
       "      <td>https://public.onlyfans.com/files/t/t2/t2f/t2f...</td>\n",
       "      <td>pretrained_deepface</td>\n",
       "      <td>[-0.20426704, 0.008542572, -0.046812143, 0.014...</td>\n",
       "    </tr>\n",
       "    <tr>\n",
       "      <th>3</th>\n",
       "      <td>777p3ach</td>\n",
       "      <td>woman</td>\n",
       "      <td>{'Woman': 50.043076276779175, 'Man': 49.956917...</td>\n",
       "      <td>https://public.onlyfans.com/files/7/73/73d/73d...</td>\n",
       "      <td>pretrained_deepface</td>\n",
       "      <td>[0.026222987, 0.03928046, 0.030166619, -0.2567...</td>\n",
       "    </tr>\n",
       "    <tr>\n",
       "      <th>5</th>\n",
       "      <td>a1bandzino_</td>\n",
       "      <td>man</td>\n",
       "      <td>{'Woman': 12.24442571401596, 'Man': 87.7555727...</td>\n",
       "      <td>https://public.onlyfans.com/files/n/no/nod/nod...</td>\n",
       "      <td>pretrained_deepface</td>\n",
       "      <td>[0.04114341, -0.43024433, 0.15611474, 0.119282...</td>\n",
       "    </tr>\n",
       "    <tr>\n",
       "      <th>8</th>\n",
       "      <td>a1day1princess</td>\n",
       "      <td>man</td>\n",
       "      <td>{'Woman': 4.30479571223259, 'Man': 95.69520354...</td>\n",
       "      <td>https://public.onlyfans.com/files/w/we/wes/wes...</td>\n",
       "      <td>pretrained_deepface</td>\n",
       "      <td>[0.23092104, -0.027042806, 0.007916119, -0.209...</td>\n",
       "    </tr>\n",
       "  </tbody>\n",
       "</table>\n",
       "</div>"
      ],
      "text/plain": [
       "            username gender  \\\n",
       "0  19hislittlegoth91    man   \n",
       "2     2troubledouble    man   \n",
       "3           777p3ach  woman   \n",
       "5        a1bandzino_    man   \n",
       "8     a1day1princess    man   \n",
       "\n",
       "                                    confidence_score  \\\n",
       "0  {'Woman': 11.30981296300888, 'Man': 88.6901855...   \n",
       "2  {'Woman': 11.368048191070557, 'Man': 88.631945...   \n",
       "3  {'Woman': 50.043076276779175, 'Man': 49.956917...   \n",
       "5  {'Woman': 12.24442571401596, 'Man': 87.7555727...   \n",
       "8  {'Woman': 4.30479571223259, 'Man': 95.69520354...   \n",
       "\n",
       "                                              avatar         predicted_by  \\\n",
       "0  https://public.onlyfans.com/files/b/bx/bxd/bxd...  pretrained_deepface   \n",
       "2  https://public.onlyfans.com/files/t/t2/t2f/t2f...  pretrained_deepface   \n",
       "3  https://public.onlyfans.com/files/7/73/73d/73d...  pretrained_deepface   \n",
       "5  https://public.onlyfans.com/files/n/no/nod/nod...  pretrained_deepface   \n",
       "8  https://public.onlyfans.com/files/w/we/wes/wes...  pretrained_deepface   \n",
       "\n",
       "                                          embeddings  \n",
       "0  [-0.06269137, 0.051554333, -0.30387303, 0.2713...  \n",
       "2  [-0.20426704, 0.008542572, -0.046812143, 0.014...  \n",
       "3  [0.026222987, 0.03928046, 0.030166619, -0.2567...  \n",
       "5  [0.04114341, -0.43024433, 0.15611474, 0.119282...  \n",
       "8  [0.23092104, -0.027042806, 0.007916119, -0.209...  "
      ]
     },
     "execution_count": 63,
     "metadata": {},
     "output_type": "execute_result"
    }
   ],
   "source": [
    "compiled_df_valid_embeddings"
   ]
  },
  {
   "cell_type": "code",
   "execution_count": 64,
   "id": "4d44ffb5",
   "metadata": {},
   "outputs": [],
   "source": [
    "from supabase import create_client, Client\n",
    "import os\n"
   ]
  },
  {
   "cell_type": "code",
   "execution_count": 65,
   "id": "9466beaa",
   "metadata": {},
   "outputs": [
    {
     "name": "stdout",
     "output_type": "stream",
     "text": [
      "<class 'pandas.core.frame.DataFrame'>\n",
      "Index: 5 entries, 0 to 8\n",
      "Data columns (total 6 columns):\n",
      " #   Column            Non-Null Count  Dtype \n",
      "---  ------            --------------  ----- \n",
      " 0   username          5 non-null      object\n",
      " 1   gender            5 non-null      object\n",
      " 2   confidence_score  5 non-null      object\n",
      " 3   avatar            5 non-null      object\n",
      " 4   predicted_by      5 non-null      object\n",
      " 5   embeddings        5 non-null      object\n",
      "dtypes: object(6)\n",
      "memory usage: 280.0+ bytes\n"
     ]
    }
   ],
   "source": [
    "compiled_df_valid_embeddings.info()"
   ]
  },
  {
   "cell_type": "code",
   "execution_count": 68,
   "id": "41196890",
   "metadata": {},
   "outputs": [],
   "source": [
    "load_dotenv('../.env')\n",
    "url = os.getenv('SUPABASE_URL')\n",
    "key = os.getenv('SUPABASE_KEY')\n",
    "supabase: Client = create_client(url, key)"
   ]
  },
  {
   "cell_type": "code",
   "execution_count": 70,
   "id": "e64a4488",
   "metadata": {},
   "outputs": [],
   "source": [
    "import json\n",
    "\n",
    "df_to_upload = compiled_df_valid_embeddings.copy()\n",
    "df_to_upload['embeddings'] = df_to_upload['embeddings'].apply(lambda x: x.tolist())\n",
    "\n",
    "# Convert DataFrame to a list of dicts\n",
    "records = df_to_upload.to_dict(orient=\"records\")\n",
    "\n",
    "# Upload to Supabase table\n",
    "for record in records:\n",
    "    supabase.table(\"of_profiles\").insert(record).execute()"
   ]
  },
  {
   "cell_type": "code",
   "execution_count": null,
   "id": "821254af",
   "metadata": {},
   "outputs": [],
   "source": []
  }
 ],
 "metadata": {
  "kernelspec": {
   "display_name": "venv",
   "language": "python",
   "name": "python3"
  },
  "language_info": {
   "codemirror_mode": {
    "name": "ipython",
    "version": 3
   },
   "file_extension": ".py",
   "mimetype": "text/x-python",
   "name": "python",
   "nbconvert_exporter": "python",
   "pygments_lexer": "ipython3",
   "version": "3.12.2"
  }
 },
 "nbformat": 4,
 "nbformat_minor": 5
}
